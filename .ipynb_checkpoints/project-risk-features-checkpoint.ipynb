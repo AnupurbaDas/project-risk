{
 "cells": [
  {
   "cell_type": "markdown",
   "metadata": {},
   "source": [
    "# Predicting project risk - Feature Extration\n",
    "\n",
    "The objetive of this work is design a machine learning model to predict the likelihood of a project having issues worth being featured in the project management risk report. We also want to explore the most significant factors that contribute to project risk, like managers, scope, seasonality, etc.\n",
    "\n",
    "In this notebook we preproces the data. The model training is performed in the notebook `project-risk-model.ipynb`.\n",
    "\n",
    "## The data\n",
    "\n",
    "This work uses project data extracted from the Microsoft Project Server database, where the Chamber of Deputies corporate projects are stored. More specifically, we analyse data from  IT projects from March 2015 to August 2016.\n",
    "\n",
    "## Loading data\n",
    "\n",
    "The first step is to load the tables that will be merged in a single feature table. Data includes basic project information, project status, monthly status reports, and ground-truth labels that indicates whether a project was reported as \"high risk\" in each month."
   ]
  },
  {
   "cell_type": "code",
   "execution_count": 78,
   "metadata": {
    "collapsed": false,
    "scrolled": false
   },
   "outputs": [
    {
     "name": "stdout",
     "output_type": "stream",
     "text": [
      "Loaded 4 variables for 80 projects\n",
      "Loaded 19 month period status for 75 projects\n",
      "Loaded 8 variables for 649 monthly project reports\n",
      "Loaded 12 variables for project management process compliance for 129 projects\n",
      "Loaded 19 month period risk labels for 77 projects\n"
     ]
    }
   ],
   "source": [
    "import sys\n",
    "import matplotlib.pyplot as plt\n",
    "import numpy as np\n",
    "import pandas as pd\n",
    "from IPython.display import display\n",
    "from sklearn.preprocessing import StandardScaler\n",
    "\n",
    "# Pretty display for notebooks\n",
    "%matplotlib inline\n",
    "\n",
    "# projects\n",
    "projects = pd.read_csv(\"data/projects.csv\", sep=\";\")\n",
    "print(\"Loaded {} variables for {} projects\".format(projects.shape[1], projects.shape[0]))\n",
    "\n",
    "# project status each month\n",
    "status = pd.read_csv(\"data/status.csv\", parse_dates=True)\n",
    "print(\"Loaded {} month period status for {} projects\".format(status.shape[1], status.shape[0]))\n",
    "#display(status.head(), status.shape)\n",
    "\n",
    "# monthly project reports\n",
    "reports = pd.read_csv(\"data/reports.csv\", sep=\";\", parse_dates=True, encoding=\"utf-8-sig\")\n",
    "reports.project = reports.fillna(method='pad').project\n",
    "reports.scope = reports.fillna(method='pad').scope\n",
    "reports.office = reports.fillna(method='pad').office\n",
    "reports.manager = reports.fillna(method='pad').manager\n",
    "print(\"Loaded {} variables for {} monthly project reports\".format(reports.shape[1], reports.shape[0]))\n",
    "#display(reports.head(), reports.shape)\n",
    "\n",
    "compliance = pd.read_csv(\"data/compliance.csv\", parse_dates=True, encoding=\"utf-8-sig\")\n",
    "print(\"Loaded {} variables for project management process compliance for {} projects\".format(compliance.shape[1], \n",
    "                                                                                             compliance.shape[0]))\n",
    "#display(compliance.head(), compliance.shape)\n",
    "\n",
    "# ground truth labels: 1 if project appeared in the risk report in a given month. 0 otherwise.\n",
    "risk = pd.read_csv(\"data/risk.csv\", parse_dates=True)\n",
    "risk.fillna(-1, inplace=True)\n",
    "print(\"Loaded {} month period risk labels for {} projects\".format(risk.shape[1], risk.shape[0]))\n",
    "\n",
    "# anonymize data\n",
    "import hashlib\n",
    "projects.project = projects.project.apply(lambda x: hashlib.sha1(x.encode()).hexdigest())\n",
    "status.project = status.project.apply(lambda x: hashlib.sha1(x.encode()).hexdigest())\n",
    "reports.project = reports.project.apply(lambda x: hashlib.sha1(x.encode()).hexdigest())\n",
    "compliance.project = compliance.project.apply(lambda x: hashlib.sha1(x.encode()).hexdigest())\n",
    "risk.project = risk.project.apply(lambda x: hashlib.sha1(x.encode()).hexdigest())\n",
    "#projects.head()"
   ]
  },
  {
   "cell_type": "markdown",
   "metadata": {},
   "source": [
    "## Merging tables\n",
    "\n",
    "First, we merge all the data in a single data frame."
   ]
  },
  {
   "cell_type": "code",
   "execution_count": 79,
   "metadata": {
    "collapsed": false
   },
   "outputs": [
    {
     "data": {
      "text/plain": [
       "(1022, 16)"
      ]
     },
     "metadata": {},
     "output_type": "display_data"
    }
   ],
   "source": [
    "# unpivot (melt) the risk data\n",
    "risk_melt = pd.melt(risk, id_vars=['project'], var_name='date', value_name='risk')\n",
    "risk_melt.date = pd.to_datetime(risk_melt.date)\n",
    "\n",
    "# unpivot (melt) the status data\n",
    "status_melt = pd.melt(status, id_vars=['project'], var_name='date', value_name='status')\n",
    "status_melt.dropna(inplace=True)\n",
    "status_melt.date = pd.to_datetime(status_melt.date)\n",
    "\n",
    "# merge risk and status\n",
    "merged = risk_melt.merge(status_melt, on=['project', 'date'])\n",
    "\n",
    "# merge compliance data\n",
    "merged = merged.merge(compliance[['project', 'compliance', 'report_count', 'has_schedule']],\n",
    "                                      on='project', how='left')\n",
    "# merge other project data (scope, manager, office)\n",
    "merged = merged.merge(projects, on='project')\n",
    "\n",
    "# extract month and year for merging\n",
    "merged['month'] = merged.date.dt.month\n",
    "merged['year'] = merged.date.dt.year\n",
    "reports.estimated_end = pd.to_datetime(reports.estimated_end, format='%d/%m/%Y')\n",
    "reports.created = pd.to_datetime(reports.created, format='%d/%m/%Y')\n",
    "reports['day'] = reports.created.dt.day\n",
    "reports['month'] = reports.created.dt.month\n",
    "reports['year'] = reports.created.dt.year\n",
    "\n",
    "merged = merged.merge(reports[['project', 'year', 'month', 'day', \n",
    "                                       'report', 'poa', 'estimated_end', 'created']], \n",
    "                on=['project', 'year', 'month'], how='left')\n",
    "\n",
    "merged.drop('date', axis=1, inplace=True)\n",
    "\n",
    "# excluding 'finished' projects\n",
    "merged.status = merged.status.str.lower()\n",
    "merged = merged[~(merged.status == 'concluído')]\n",
    "    \n",
    "display(merged.head(), merged.shape)"
   ]
  },
  {
   "cell_type": "markdown",
   "metadata": {},
   "source": [
    "## Feature extraction\n",
    "\n",
    "### Markovian features\n",
    "\n",
    "* `alert_previous1`: project appeared in the risk report in the last month\n",
    "* `alert_previous2`: project appeared in the risk report in the last two months\n",
    "* `alert_previous3`: project appeared in the risk report in the last three months\n",
    "* `project_risk_likelihood`: maximum likelihood risk probability estimation (with Laplace smoothing)"
   ]
  },
  {
   "cell_type": "code",
   "execution_count": 80,
   "metadata": {
    "collapsed": false
   },
   "outputs": [
    {
     "name": "stderr",
     "output_type": "stream",
     "text": [
      "/Users/marciofonseca/anaconda/lib/python3.5/site-packages/ipykernel/__main__.py:31: UserWarning: Boolean Series key will be reindexed to match DataFrame index.\n"
     ]
    },
    {
     "data": {
      "text/plain": [
       "(1022, 20)"
      ]
     },
     "metadata": {},
     "output_type": "display_data"
    }
   ],
   "source": [
    "def get_previous_month_risk(data, row, n_previous=1):\n",
    "    \n",
    "    if n_previous < 1:\n",
    "        return 1\n",
    "    \n",
    "    year = row['year']\n",
    "    if (row['month'] == 1):\n",
    "        month = 12\n",
    "        year -= 1\n",
    "    else:\n",
    "        month = row['month'] - 1\n",
    "        \n",
    "    previous = data[(data.project == row['project']) & (data.year == year) \n",
    "                             & (data.month == month) & (data.risk == 1)]\n",
    "    \n",
    "    if previous.empty:\n",
    "        return 0\n",
    "    else:\n",
    "        previous_row = {'project': row['project'], 'year': year, 'month': month}\n",
    "        return get_previous_month_risk(data, previous_row, n_previous-1)\n",
    "\n",
    "def get_project_risk_likelihood(data, row):\n",
    "    \n",
    "    data_before_row = data[(data.year < row.year) | ((data.year == row.year)\n",
    "                                                     & (data.month < row.month))]\n",
    "    total_risk = data_before_row.risk.sum()\n",
    "    \n",
    "    n_projects = data.project.unique().shape[0]\n",
    "    alpha = 1\n",
    "    \n",
    "    project_risk = data_before_row[data.project == row.project].risk.sum()\n",
    "    # likelihood with Laplace Smoothing\n",
    "    return (project_risk + alpha) / (total_risk + alpha * n_projects)\n",
    "    \n",
    "project_month = merged[['project', 'year', 'month', 'risk']].groupby(\n",
    "        ['year', 'month', 'project'], as_index=False).sum()\n",
    "    \n",
    "project_month['risk_previous1'] = project_month.apply(\n",
    "    lambda x: get_previous_month_risk(project_month, x, 1), axis=1)\n",
    "project_month['risk_previous2'] = project_month.apply(\n",
    "    lambda x: get_previous_month_risk(project_month, x, 2), axis=1)\n",
    "project_month['risk_previous3'] = project_month.apply(\n",
    "    lambda x: get_previous_month_risk(project_month, x, 3), axis=1)\n",
    "project_month['project_risk_likelihood'] = project_month.apply(\n",
    "    lambda x: get_project_risk_likelihood(project_month, x), axis=1)\n",
    "\n",
    "features_markovian = merged.merge(project_month[['project', 'year', 'month', \n",
    "                                      'risk_previous1', 'risk_previous2', 'risk_previous3',\n",
    "                                      'project_risk_likelihood']], on=['project', 'year', 'month'])\n",
    "    \n",
    "display(features_markovian.shape)"
   ]
  },
  {
   "cell_type": "markdown",
   "metadata": {},
   "source": [
    "### Monthly report features\n",
    "\n",
    "* `report_word_count`: number of words in report\n",
    "* `poa_word_count`: number of words in \"points of attention\" section\n",
    "* `estimated_days_finish`: estimated days to finish project"
   ]
  },
  {
   "cell_type": "code",
   "execution_count": 81,
   "metadata": {
    "collapsed": false
   },
   "outputs": [
    {
     "data": {
      "text/plain": [
       "(1022, 19)"
      ]
     },
     "metadata": {},
     "output_type": "display_data"
    }
   ],
   "source": [
    "features_reports = features_markovian.copy()\n",
    "features_reports['estimated_days_finish'] = (features_reports.estimated_end \n",
    "                                             - features_reports.created).astype('timedelta64[D]')\n",
    "features_reports['report_word_count'] = reports.report.apply(lambda x: len(x.split(' ')))\n",
    "features_reports['poa_word_count'] = reports.poa.apply(lambda x: len(str(x).split(' ')))\n",
    "\n",
    "# fill missing values\n",
    "features_reports.report_word_count.fillna(features_reports.report_word_count.mean(), inplace=True)\n",
    "features_reports.poa_word_count.fillna(features_reports.poa_word_count.mean(), inplace=True)\n",
    "features_reports.day.fillna(features_reports.day.mean(), inplace=True)\n",
    "features_reports.estimated_days_finish.fillna(features_reports.estimated_days_finish.mean(), inplace=True)\n",
    "#features_reports.estimated_days_finish.map(lambda x: make_nonnegative(x))\n",
    "features_reports.drop(['report', 'poa', 'estimated_end', 'created'], axis=1, inplace=True)\n",
    "    \n",
    "display(features_reports.shape)"
   ]
  },
  {
   "cell_type": "markdown",
   "metadata": {},
   "source": [
    "### Manager features\n",
    "\n",
    "* `manager_risk_likelihood`: maximum likelihood risk probability estimation for managers (with Laplace smoothing)\n",
    "* `manager_project_count`: number of projects the manager is responsible in a given month"
   ]
  },
  {
   "cell_type": "code",
   "execution_count": 87,
   "metadata": {
    "collapsed": false
   },
   "outputs": [
    {
     "name": "stderr",
     "output_type": "stream",
     "text": [
      "/Users/marciofonseca/anaconda/lib/python3.5/site-packages/ipykernel/__main__.py:10: UserWarning: Boolean Series key will be reindexed to match DataFrame index.\n"
     ]
    },
    {
     "data": {
      "text/plain": [
       "Index(['project', 'risk', 'status', 'compliance', 'report_count',\n",
       "       'has_schedule', 'scope', 'office', 'month', 'year', 'day',\n",
       "       'risk_previous1', 'risk_previous2', 'risk_previous3',\n",
       "       'project_risk_likelihood', 'estimated_days_finish', 'report_word_count',\n",
       "       'poa_word_count', 'manager_risk_likelihood', 'manager_project_count'],\n",
       "      dtype='object')"
      ]
     },
     "metadata": {},
     "output_type": "display_data"
    }
   ],
   "source": [
    "def get_manager_risk_likelihood(data, row):\n",
    "    \n",
    "    data_before_row = data[(data.year < row.year) | ((data.year == row.year)\n",
    "                                                     & (data.month < row.month))]\n",
    "    total_risk = data_before_row.risk.sum()\n",
    "    \n",
    "    n_managers = data.manager.unique().shape[0]\n",
    "    alpha = 1\n",
    "    \n",
    "    manager_risk = data_before_row[data.manager == row.manager].risk.sum()\n",
    "    # likelihood with Laplace Smoothing\n",
    "    return (manager_risk + alpha) / (total_risk + alpha * n_managers)\n",
    "\n",
    "def merge_managers(data):\n",
    "    \n",
    "    managers_months = data[['manager', 'month', 'year', 'risk']].groupby(\n",
    "        ['year', 'month', 'manager'], as_index=False)\n",
    "    \n",
    "    managers = managers_months.count()\n",
    "    managers = managers.rename(index=str, columns={\"risk\": \"manager_project_count\"})\n",
    "    \n",
    "    managers_sum = managers_months.sum()\n",
    "    managers_sum['manager_risk_likelihood'] = managers_sum.apply(\n",
    "        lambda x: get_manager_risk_likelihood(managers_sum, x), axis=1)\n",
    "    managers_sum.drop('risk', axis=1, inplace=True)\n",
    "    \n",
    "    data = data.merge(managers_sum, on=['manager', 'month', 'year'])\n",
    "    data = data.merge(managers, on=['manager', 'month', 'year'])\n",
    "    return data\n",
    "\n",
    "features_managers = merge_managers(features_reports)\n",
    "features_managers.drop(['manager'], axis=1, inplace=True)\n",
    "display(features_managers.columns)"
   ]
  },
  {
   "cell_type": "markdown",
   "metadata": {},
   "source": [
    "### Saving data to file"
   ]
  },
  {
   "cell_type": "code",
   "execution_count": 86,
   "metadata": {
    "collapsed": false
   },
   "outputs": [
    {
     "data": {
      "text/html": [
       "<div>\n",
       "<table border=\"1\" class=\"dataframe\">\n",
       "  <thead>\n",
       "    <tr style=\"text-align: right;\">\n",
       "      <th></th>\n",
       "      <th>project</th>\n",
       "      <th>risk</th>\n",
       "      <th>status</th>\n",
       "      <th>has_schedule</th>\n",
       "      <th>scope</th>\n",
       "      <th>office</th>\n",
       "      <th>month</th>\n",
       "      <th>year</th>\n",
       "      <th>risk_previous1</th>\n",
       "      <th>risk_previous2</th>\n",
       "      <th>...</th>\n",
       "      <th>secom</th>\n",
       "      <th>day</th>\n",
       "      <th>report_word_count</th>\n",
       "      <th>poa_word_count</th>\n",
       "      <th>compliance</th>\n",
       "      <th>estimated_days_finish</th>\n",
       "      <th>manager_risk_likelihood</th>\n",
       "      <th>manager_project_count</th>\n",
       "      <th>project_risk_likelihood</th>\n",
       "      <th>report_count</th>\n",
       "    </tr>\n",
       "  </thead>\n",
       "  <tbody>\n",
       "    <tr>\n",
       "      <th>0</th>\n",
       "      <td>d4a12fad3a1553d1aa8d945c6d8c46e4b733ae5e</td>\n",
       "      <td>1.0</td>\n",
       "      <td>tramitando para contratação</td>\n",
       "      <td>1</td>\n",
       "      <td>Corporativo</td>\n",
       "      <td>Corporativo</td>\n",
       "      <td>3</td>\n",
       "      <td>2015</td>\n",
       "      <td>0</td>\n",
       "      <td>0</td>\n",
       "      <td>...</td>\n",
       "      <td>0.0</td>\n",
       "      <td>-4.010050e-16</td>\n",
       "      <td>0.007585</td>\n",
       "      <td>-0.824473</td>\n",
       "      <td>0.722363</td>\n",
       "      <td>-2.110108e-17</td>\n",
       "      <td>-0.252429</td>\n",
       "      <td>-0.784835</td>\n",
       "      <td>-0.172296</td>\n",
       "      <td>1.947849</td>\n",
       "    </tr>\n",
       "    <tr>\n",
       "      <th>1</th>\n",
       "      <td>d4a12fad3a1553d1aa8d945c6d8c46e4b733ae5e</td>\n",
       "      <td>1.0</td>\n",
       "      <td>tramitando para contratação</td>\n",
       "      <td>1</td>\n",
       "      <td>Corporativo</td>\n",
       "      <td>Corporativo</td>\n",
       "      <td>4</td>\n",
       "      <td>2015</td>\n",
       "      <td>1</td>\n",
       "      <td>0</td>\n",
       "      <td>...</td>\n",
       "      <td>0.0</td>\n",
       "      <td>-1.257328e+00</td>\n",
       "      <td>-0.015689</td>\n",
       "      <td>-0.824473</td>\n",
       "      <td>0.722363</td>\n",
       "      <td>4.610911e-02</td>\n",
       "      <td>0.593820</td>\n",
       "      <td>-0.784835</td>\n",
       "      <td>0.749906</td>\n",
       "      <td>1.947849</td>\n",
       "    </tr>\n",
       "    <tr>\n",
       "      <th>2</th>\n",
       "      <td>d4a12fad3a1553d1aa8d945c6d8c46e4b733ae5e</td>\n",
       "      <td>1.0</td>\n",
       "      <td>tramitando para contratação</td>\n",
       "      <td>1</td>\n",
       "      <td>Corporativo</td>\n",
       "      <td>Corporativo</td>\n",
       "      <td>5</td>\n",
       "      <td>2015</td>\n",
       "      <td>1</td>\n",
       "      <td>1</td>\n",
       "      <td>...</td>\n",
       "      <td>0.0</td>\n",
       "      <td>-6.929637e-01</td>\n",
       "      <td>0.263596</td>\n",
       "      <td>-0.824473</td>\n",
       "      <td>0.722363</td>\n",
       "      <td>2.012412e-02</td>\n",
       "      <td>1.099686</td>\n",
       "      <td>-0.784835</td>\n",
       "      <td>1.392062</td>\n",
       "      <td>1.947849</td>\n",
       "    </tr>\n",
       "    <tr>\n",
       "      <th>3</th>\n",
       "      <td>d4a12fad3a1553d1aa8d945c6d8c46e4b733ae5e</td>\n",
       "      <td>0.0</td>\n",
       "      <td>em andamento</td>\n",
       "      <td>1</td>\n",
       "      <td>Corporativo</td>\n",
       "      <td>Corporativo</td>\n",
       "      <td>6</td>\n",
       "      <td>2015</td>\n",
       "      <td>1</td>\n",
       "      <td>1</td>\n",
       "      <td>...</td>\n",
       "      <td>0.0</td>\n",
       "      <td>1.338748e+00</td>\n",
       "      <td>-0.411344</td>\n",
       "      <td>1.192079</td>\n",
       "      <td>0.722363</td>\n",
       "      <td>-1.625485e-02</td>\n",
       "      <td>1.444595</td>\n",
       "      <td>0.706060</td>\n",
       "      <td>1.872233</td>\n",
       "      <td>1.947849</td>\n",
       "    </tr>\n",
       "    <tr>\n",
       "      <th>4</th>\n",
       "      <td>d4a12fad3a1553d1aa8d945c6d8c46e4b733ae5e</td>\n",
       "      <td>0.0</td>\n",
       "      <td>em andamento</td>\n",
       "      <td>1</td>\n",
       "      <td>Corporativo</td>\n",
       "      <td>Corporativo</td>\n",
       "      <td>6</td>\n",
       "      <td>2015</td>\n",
       "      <td>1</td>\n",
       "      <td>1</td>\n",
       "      <td>...</td>\n",
       "      <td>0.0</td>\n",
       "      <td>-1.821692e+00</td>\n",
       "      <td>-0.364796</td>\n",
       "      <td>0.202135</td>\n",
       "      <td>0.722363</td>\n",
       "      <td>4.533133e-03</td>\n",
       "      <td>1.444595</td>\n",
       "      <td>0.706060</td>\n",
       "      <td>1.872233</td>\n",
       "      <td>1.947849</td>\n",
       "    </tr>\n",
       "  </tbody>\n",
       "</table>\n",
       "<p>5 rows × 39 columns</p>\n",
       "</div>"
      ],
      "text/plain": [
       "                                    project  risk  \\\n",
       "0  d4a12fad3a1553d1aa8d945c6d8c46e4b733ae5e   1.0   \n",
       "1  d4a12fad3a1553d1aa8d945c6d8c46e4b733ae5e   1.0   \n",
       "2  d4a12fad3a1553d1aa8d945c6d8c46e4b733ae5e   1.0   \n",
       "3  d4a12fad3a1553d1aa8d945c6d8c46e4b733ae5e   0.0   \n",
       "4  d4a12fad3a1553d1aa8d945c6d8c46e4b733ae5e   0.0   \n",
       "\n",
       "                        status  has_schedule        scope       office  month  \\\n",
       "0  tramitando para contratação             1  Corporativo  Corporativo      3   \n",
       "1  tramitando para contratação             1  Corporativo  Corporativo      4   \n",
       "2  tramitando para contratação             1  Corporativo  Corporativo      5   \n",
       "3                 em andamento             1  Corporativo  Corporativo      6   \n",
       "4                 em andamento             1  Corporativo  Corporativo      6   \n",
       "\n",
       "   year  risk_previous1  risk_previous2      ...       secom           day  \\\n",
       "0  2015               0               0      ...         0.0 -4.010050e-16   \n",
       "1  2015               1               0      ...         0.0 -1.257328e+00   \n",
       "2  2015               1               1      ...         0.0 -6.929637e-01   \n",
       "3  2015               1               1      ...         0.0  1.338748e+00   \n",
       "4  2015               1               1      ...         0.0 -1.821692e+00   \n",
       "\n",
       "   report_word_count  poa_word_count  compliance  estimated_days_finish  \\\n",
       "0           0.007585       -0.824473    0.722363          -2.110108e-17   \n",
       "1          -0.015689       -0.824473    0.722363           4.610911e-02   \n",
       "2           0.263596       -0.824473    0.722363           2.012412e-02   \n",
       "3          -0.411344        1.192079    0.722363          -1.625485e-02   \n",
       "4          -0.364796        0.202135    0.722363           4.533133e-03   \n",
       "\n",
       "   manager_risk_likelihood  manager_project_count  project_risk_likelihood  \\\n",
       "0                -0.252429              -0.784835                -0.172296   \n",
       "1                 0.593820              -0.784835                 0.749906   \n",
       "2                 1.099686              -0.784835                 1.392062   \n",
       "3                 1.444595               0.706060                 1.872233   \n",
       "4                 1.444595               0.706060                 1.872233   \n",
       "\n",
       "   report_count  \n",
       "0      1.947849  \n",
       "1      1.947849  \n",
       "2      1.947849  \n",
       "3      1.947849  \n",
       "4      1.947849  \n",
       "\n",
       "[5 rows x 39 columns]"
      ]
     },
     "metadata": {},
     "output_type": "display_data"
    },
    {
     "data": {
      "text/plain": [
       "(1022, 39)"
      ]
     },
     "metadata": {},
     "output_type": "display_data"
    }
   ],
   "source": [
    "features.to_csv('project-data.csv', index=False)\n",
    "display(features.head(), features.shape)"
   ]
  }
 ],
 "metadata": {
  "anaconda-cloud": {},
  "kernelspec": {
   "display_name": "Python 3",
   "language": "python",
   "name": "python3"
  },
  "language_info": {
   "codemirror_mode": {
    "name": "ipython",
    "version": 3
   },
   "file_extension": ".py",
   "mimetype": "text/x-python",
   "name": "python",
   "nbconvert_exporter": "python",
   "pygments_lexer": "ipython3",
   "version": "3.5.1"
  }
 },
 "nbformat": 4,
 "nbformat_minor": 0
}
